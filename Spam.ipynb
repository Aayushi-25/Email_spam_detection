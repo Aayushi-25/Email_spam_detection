{
  "nbformat": 4,
  "nbformat_minor": 0,
  "metadata": {
    "colab": {
      "name": "Spam.ipynb",
      "provenance": []
    },
    "kernelspec": {
      "name": "python3",
      "display_name": "Python 3"
    }
  },
  "cells": [
    {
      "cell_type": "code",
      "metadata": {
        "id": "icatu7gqk5G1"
      },
      "source": [
        "import pandas as pd\n",
        "import nltk\n",
        "from nltk.corpus import stopwords\n",
        "import string"
      ],
      "execution_count": null,
      "outputs": []
    },
    {
      "cell_type": "code",
      "metadata": {
        "id": "KRTfGZO_ndZj"
      },
      "source": [
        "df = pd.read_csv('emails.csv')"
      ],
      "execution_count": null,
      "outputs": []
    },
    {
      "cell_type": "code",
      "metadata": {
        "id": "XlIVmePxoLBC"
      },
      "source": [
        "df.head()\n",
        "df.shape\n"
      ],
      "execution_count": null,
      "outputs": []
    },
    {
      "cell_type": "code",
      "metadata": {
        "id": "JvDImjG1oZrf"
      },
      "source": [
        "df.drop_duplicates(inplace=True)"
      ],
      "execution_count": null,
      "outputs": []
    },
    {
      "cell_type": "code",
      "metadata": {
        "colab": {
          "base_uri": "https://localhost:8080/"
        },
        "id": "xuqz0TObooM_",
        "outputId": "788da8d7-9822-4420-f93d-696c92322745"
      },
      "source": [
        "df.shape"
      ],
      "execution_count": null,
      "outputs": [
        {
          "output_type": "execute_result",
          "data": {
            "text/plain": [
              "(5695, 2)"
            ]
          },
          "metadata": {
            "tags": []
          },
          "execution_count": 12
        }
      ]
    },
    {
      "cell_type": "code",
      "metadata": {
        "colab": {
          "base_uri": "https://localhost:8080/"
        },
        "id": "aoLIx1r1pjtt",
        "outputId": "a8cc45db-5287-4087-acae-bdc4859ec142"
      },
      "source": [
        "df.isnull().sum()"
      ],
      "execution_count": null,
      "outputs": [
        {
          "output_type": "execute_result",
          "data": {
            "text/plain": [
              "text    0\n",
              "spam    0\n",
              "dtype: int64"
            ]
          },
          "metadata": {
            "tags": []
          },
          "execution_count": 13
        }
      ]
    },
    {
      "cell_type": "code",
      "metadata": {
        "colab": {
          "base_uri": "https://localhost:8080/"
        },
        "id": "voLhPz6Wp7J9",
        "outputId": "50074a57-0417-4cbf-b7d4-0ebb07d203ab"
      },
      "source": [
        "nltk.download('stopwords')"
      ],
      "execution_count": null,
      "outputs": [
        {
          "output_type": "stream",
          "text": [
            "[nltk_data] Downloading package stopwords to /root/nltk_data...\n",
            "[nltk_data]   Unzipping corpora/stopwords.zip.\n"
          ],
          "name": "stdout"
        },
        {
          "output_type": "execute_result",
          "data": {
            "text/plain": [
              "True"
            ]
          },
          "metadata": {
            "tags": []
          },
          "execution_count": 14
        }
      ]
    },
    {
      "cell_type": "code",
      "metadata": {
        "id": "TgtKt-EZqHx0"
      },
      "source": [
        "def process_text(text):\n",
        " \n",
        "  nopunc = [char for char in text if char not in string.punctuation]\n",
        "  nopunc = ''.join(nopunc)\n",
        " \n",
        "  clean_words = [word for word in nopunc.split() if word.lower() not in stopwords.words('english')]\n",
        " \n",
        "  return clean_words"
      ],
      "execution_count": null,
      "outputs": []
    },
    {
      "cell_type": "code",
      "metadata": {
        "colab": {
          "base_uri": "https://localhost:8080/"
        },
        "id": "WBZwcoM2rJNL",
        "outputId": "5d7cf4d1-b342-4bb2-fd5b-d7c979adb82b"
      },
      "source": [
        "df['text'].head().apply(process_text)"
      ],
      "execution_count": null,
      "outputs": [
        {
          "output_type": "execute_result",
          "data": {
            "text/plain": [
              "0    [Subject, naturally, irresistible, corporate, ...\n",
              "1    [Subject, stock, trading, gunslinger, fanny, m...\n",
              "2    [Subject, unbelievable, new, homes, made, easy...\n",
              "3    [Subject, 4, color, printing, special, request...\n",
              "4    [Subject, money, get, software, cds, software,...\n",
              "Name: text, dtype: object"
            ]
          },
          "metadata": {
            "tags": []
          },
          "execution_count": 16
        }
      ]
    },
    {
      "cell_type": "code",
      "metadata": {
        "id": "Of2Mfi9mtZ9g"
      },
      "source": [
        "from sklearn.feature_extraction.text import CountVectorizer\n",
        "bow = CountVectorizer(analyzer = process_text).fit_transform(df['text'])"
      ],
      "execution_count": null,
      "outputs": []
    },
    {
      "cell_type": "code",
      "metadata": {
        "id": "s0AQ51z3t_w2",
        "colab": {
          "base_uri": "https://localhost:8080/"
        },
        "outputId": "e1bb2bcc-5915-460b-85d8-d4ae0a05d723"
      },
      "source": [
        "from sklearn.model_selection import train_test_split\n",
        "X_train, X_test, y_train, y_test = train_test_split(bow, df['spam'], test_size=0.2)\n",
        "print(X_train)\n"
      ],
      "execution_count": null,
      "outputs": [
        {
          "output_type": "stream",
          "text": [
            "  (0, 3638)\t1\n",
            "  (0, 9296)\t2\n",
            "  (0, 18238)\t1\n",
            "  (0, 21431)\t1\n",
            "  (0, 7541)\t9\n",
            "  (0, 12166)\t2\n",
            "  (0, 33562)\t1\n",
            "  (0, 10856)\t1\n",
            "  (0, 358)\t2\n",
            "  (0, 4775)\t2\n",
            "  (0, 20999)\t1\n",
            "  (0, 20700)\t1\n",
            "  (0, 16341)\t1\n",
            "  (0, 34271)\t1\n",
            "  (0, 5205)\t1\n",
            "  (0, 32932)\t1\n",
            "  (0, 5458)\t1\n",
            "  (0, 9361)\t3\n",
            "  (0, 26428)\t1\n",
            "  (0, 5201)\t1\n",
            "  (0, 15083)\t1\n",
            "  (0, 28699)\t1\n",
            "  (0, 24602)\t2\n",
            "  (0, 14451)\t3\n",
            "  (0, 12578)\t4\n",
            "  :\t:\n",
            "  (4555, 12780)\t1\n",
            "  (4555, 8125)\t1\n",
            "  (4555, 21793)\t1\n",
            "  (4555, 35511)\t1\n",
            "  (4555, 9221)\t1\n",
            "  (4555, 35514)\t1\n",
            "  (4555, 12019)\t1\n",
            "  (4555, 19540)\t2\n",
            "  (4555, 11324)\t1\n",
            "  (4555, 5368)\t1\n",
            "  (4555, 21796)\t2\n",
            "  (4555, 33484)\t1\n",
            "  (4555, 26572)\t1\n",
            "  (4555, 27602)\t4\n",
            "  (4555, 19690)\t2\n",
            "  (4555, 27496)\t2\n",
            "  (4555, 21801)\t1\n",
            "  (4555, 34986)\t1\n",
            "  (4555, 2537)\t1\n",
            "  (4555, 1523)\t1\n",
            "  (4555, 27597)\t2\n",
            "  (4555, 15960)\t1\n",
            "  (4555, 21802)\t1\n",
            "  (4555, 4370)\t1\n",
            "  (4555, 9651)\t1\n"
          ],
          "name": "stdout"
        }
      ]
    },
    {
      "cell_type": "code",
      "metadata": {
        "colab": {
          "base_uri": "https://localhost:8080/"
        },
        "id": "WN7PI-g0vA-c",
        "outputId": "00916092-523d-4394-9389-2bf6ec7d48a5"
      },
      "source": [
        "from sklearn.naive_bayes import MultinomialNB\n",
        "classifier = MultinomialNB().fit(X_train, y_train)\n",
        "\n",
        "y_pred = classifier.predict(X_test)\n",
        "from sklearn.metrics import accuracy_score\n",
        "accuracy_score(y_test, y_pred) "
      ],
      "execution_count": null,
      "outputs": [
        {
          "output_type": "execute_result",
          "data": {
            "text/plain": [
              "0.9920983318700615"
            ]
          },
          "metadata": {
            "tags": []
          },
          "execution_count": 20
        }
      ]
    },
    {
      "cell_type": "code",
      "metadata": {
        "colab": {
          "base_uri": "https://localhost:8080/"
        },
        "id": "C188fswNvWqr",
        "outputId": "026607b7-76aa-4679-bdda-668158cc0d9b"
      },
      "source": [
        "from sklearn.metrics import confusion_matrix\n",
        "cm = confusion_matrix(y_test, y_pred)\n",
        "print(cm)"
      ],
      "execution_count": null,
      "outputs": [
        {
          "output_type": "stream",
          "text": [
            "[[871  14]\n",
            " [  1 253]]\n"
          ],
          "name": "stdout"
        }
      ]
    }
  ]
}